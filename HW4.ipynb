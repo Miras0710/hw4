{
 "cells": [
  {
   "cell_type": "code",
   "execution_count": 12,
   "id": "237f04e5",
   "metadata": {},
   "outputs": [
    {
     "name": "stdout",
     "output_type": "stream",
     "text": [
      "Min: 1 \n",
      "Max: 1000000 \n",
      "Sum: 500000500000\n"
     ]
    }
   ],
   "source": [
    "numbers = []\n",
    "for i in range(0,1000000):\n",
    "    numbers.append(i+1)\n",
    "\n",
    "print(f'Min: {min(numbers)} \\nMax: {max(numbers)} \\nSum: {sum(numbers)}')"
   ]
  },
  {
   "cell_type": "code",
   "execution_count": 14,
   "id": "f7be5bd3",
   "metadata": {},
   "outputs": [
    {
     "name": "stdout",
     "output_type": "stream",
     "text": [
      "3\n",
      "6\n",
      "9\n",
      "12\n",
      "15\n",
      "18\n",
      "21\n",
      "24\n",
      "27\n",
      "30\n"
     ]
    }
   ],
   "source": [
    "for i in range(2,31):\n",
    "    if i%3==0:\n",
    "        print(i)"
   ]
  },
  {
   "cell_type": "code",
   "execution_count": 19,
   "id": "a394a09c",
   "metadata": {},
   "outputs": [
    {
     "name": "stdout",
     "output_type": "stream",
     "text": [
      "1\n",
      "8\n",
      "27\n",
      "64\n",
      "125\n",
      "216\n",
      "343\n",
      "512\n",
      "729\n"
     ]
    }
   ],
   "source": [
    "for i in range(1,10):\n",
    "    print(i**3)"
   ]
  },
  {
   "cell_type": "code",
   "execution_count": 31,
   "id": "cb3bdb9c",
   "metadata": {},
   "outputs": [
    {
     "name": "stdout",
     "output_type": "stream",
     "text": [
      "Enter age \n",
      "Or write -1 to quit:3\n",
      "Free\n",
      "Enter age \n",
      "Or write -1 to quit:12\n",
      "Ticket price is 1000\n",
      "Enter age \n",
      "Or write -1 to quit:15\n",
      "Ticket price is 1500\n",
      "Enter age \n",
      "Or write -1 to quit:-1\n"
     ]
    }
   ],
   "source": [
    "age=''\n",
    "while age!= -1:\n",
    "    age = input('Enter age \\nOr write -1 to quit:')\n",
    "    age = int(age)\n",
    "    if age== -1:\n",
    "        break\n",
    "    elif age<=3:\n",
    "        print('Free')\n",
    "    elif age>3 and age<=12:\n",
    "        print('Ticket price is 1000')\n",
    "    elif age>12:\n",
    "        print('Ticket price is 1500')\n",
    "   "
   ]
  },
  {
   "cell_type": "code",
   "execution_count": 74,
   "id": "18b11fab",
   "metadata": {},
   "outputs": [
    {
     "name": "stdout",
     "output_type": "stream",
     "text": [
      "Enter number: 5\n",
      "1\n",
      "5\n"
     ]
    }
   ],
   "source": [
    "n=input(\"Enter number: \")\n",
    "n=int(n)\n",
    "for i in range(1,n+1,1):\n",
    "    if n%i==0:\n",
    "        print(i)\n",
    "    \n",
    "        "
   ]
  },
  {
   "cell_type": "code",
   "execution_count": null,
   "id": "399321e6",
   "metadata": {},
   "outputs": [],
   "source": [
    "summa=[]\n",
    "n=int(input('Enter number: '))\n",
    "while n>0:\n",
    "    a=n%10\n",
    "    summa.append(a)\n",
    "    n=n//10\n",
    "    \n",
    "print(sum(summa))"
   ]
  },
  {
   "cell_type": "markdown",
   "id": "275a3a5d",
   "metadata": {},
   "source": [
    "6. Напишите такую программу, где вы сначала получите целое число от пользователя. И далее вы суммируете его цифры. Например ввели число 125, то на выходе вы должны получить 1+2+5 = 8. (экспериментируйте)"
   ]
  }
 ],
 "metadata": {
  "kernelspec": {
   "display_name": "Python 3 (ipykernel)",
   "language": "python",
   "name": "python3"
  },
  "language_info": {
   "codemirror_mode": {
    "name": "ipython",
    "version": 3
   },
   "file_extension": ".py",
   "mimetype": "text/x-python",
   "name": "python",
   "nbconvert_exporter": "python",
   "pygments_lexer": "ipython3",
   "version": "3.9.13"
  }
 },
 "nbformat": 4,
 "nbformat_minor": 5
}
